{
 "cells": [
  {
   "cell_type": "code",
   "execution_count": 1,
   "id": "efd4b38e",
   "metadata": {},
   "outputs": [],
   "source": [
    "# .. ... .... .. ....."
   ]
  },
  {
   "cell_type": "code",
   "execution_count": 2,
   "id": "8b0fa485",
   "metadata": {},
   "outputs": [],
   "source": [
    "# import dependencies\n",
    "import yfinance as yf\n",
    "import torch\n",
    "import torch.nn as nn\n",
    "import torch.optim as optim\n",
    "import numpy as np\n",
    "from sklearn.model_selection import train_test_split\n",
    "from sklearn.preprocessing import MinMaxScaler\n",
    "from tqdm.notebook import tqdm_notebook as bar\n",
    "import warnings\n",
    "import matplotlib.pyplot as plt"
   ]
  },
  {
   "cell_type": "code",
   "execution_count": 3,
   "id": "96b148e6",
   "metadata": {},
   "outputs": [],
   "source": [
    "# Set random seed for reproducibility\n",
    "torch.manual_seed(42)\n",
    "np.random.seed(42)\n",
    "warnings.filterwarnings('ignore')"
   ]
  },
  {
   "cell_type": "code",
   "execution_count": 4,
   "id": "be996588",
   "metadata": {},
   "outputs": [
    {
     "name": "stdout",
     "output_type": "stream",
     "text": [
      "[*********************100%***********************]  1 of 1 completed\n"
     ]
    }
   ],
   "source": [
    "\n",
    "# Define the ticker symbol of the financial instrument you're interested in\n",
    "ticker = \"AAPL\"  # Apple Inc. stock\n",
    "\n",
    "# Retrieve historical data\n",
    "data = yf.download(ticker, start=\"2000-01-01\", end=\"2021-12-31\")\n",
    "\n",
    "# Print the first few rows of the dataset\n",
    "\n"
   ]
  },
  {
   "cell_type": "code",
   "execution_count": 5,
   "id": "e94427ab",
   "metadata": {},
   "outputs": [
    {
     "data": {
      "text/html": [
       "<div>\n",
       "<style scoped>\n",
       "    .dataframe tbody tr th:only-of-type {\n",
       "        vertical-align: middle;\n",
       "    }\n",
       "\n",
       "    .dataframe tbody tr th {\n",
       "        vertical-align: top;\n",
       "    }\n",
       "\n",
       "    .dataframe thead th {\n",
       "        text-align: right;\n",
       "    }\n",
       "</style>\n",
       "<table border=\"1\" class=\"dataframe\">\n",
       "  <thead>\n",
       "    <tr style=\"text-align: right;\">\n",
       "      <th></th>\n",
       "      <th>Open</th>\n",
       "      <th>High</th>\n",
       "      <th>Low</th>\n",
       "      <th>Close</th>\n",
       "      <th>Adj Close</th>\n",
       "      <th>Volume</th>\n",
       "    </tr>\n",
       "  </thead>\n",
       "  <tbody>\n",
       "    <tr>\n",
       "      <th>count</th>\n",
       "      <td>5535.000000</td>\n",
       "      <td>5535.000000</td>\n",
       "      <td>5535.000000</td>\n",
       "      <td>5535.000000</td>\n",
       "      <td>5535.000000</td>\n",
       "      <td>5.535000e+03</td>\n",
       "    </tr>\n",
       "    <tr>\n",
       "      <th>mean</th>\n",
       "      <td>24.254609</td>\n",
       "      <td>24.512803</td>\n",
       "      <td>23.998591</td>\n",
       "      <td>24.266556</td>\n",
       "      <td>22.980999</td>\n",
       "      <td>4.292185e+08</td>\n",
       "    </tr>\n",
       "    <tr>\n",
       "      <th>std</th>\n",
       "      <td>34.572185</td>\n",
       "      <td>34.961910</td>\n",
       "      <td>34.199711</td>\n",
       "      <td>34.601415</td>\n",
       "      <td>34.199165</td>\n",
       "      <td>3.893148e+08</td>\n",
       "    </tr>\n",
       "    <tr>\n",
       "      <th>min</th>\n",
       "      <td>0.231964</td>\n",
       "      <td>0.235536</td>\n",
       "      <td>0.227143</td>\n",
       "      <td>0.234286</td>\n",
       "      <td>0.199130</td>\n",
       "      <td>3.934000e+07</td>\n",
       "    </tr>\n",
       "    <tr>\n",
       "      <th>25%</th>\n",
       "      <td>1.541786</td>\n",
       "      <td>1.565893</td>\n",
       "      <td>1.521786</td>\n",
       "      <td>1.538929</td>\n",
       "      <td>1.308001</td>\n",
       "      <td>1.588328e+08</td>\n",
       "    </tr>\n",
       "    <tr>\n",
       "      <th>50%</th>\n",
       "      <td>11.612857</td>\n",
       "      <td>11.658929</td>\n",
       "      <td>11.501786</td>\n",
       "      <td>11.612857</td>\n",
       "      <td>9.870262</td>\n",
       "      <td>3.154368e+08</td>\n",
       "    </tr>\n",
       "    <tr>\n",
       "      <th>75%</th>\n",
       "      <td>29.756250</td>\n",
       "      <td>29.981250</td>\n",
       "      <td>29.561250</td>\n",
       "      <td>29.815000</td>\n",
       "      <td>27.306857</td>\n",
       "      <td>5.706554e+08</td>\n",
       "    </tr>\n",
       "    <tr>\n",
       "      <th>max</th>\n",
       "      <td>181.119995</td>\n",
       "      <td>182.130005</td>\n",
       "      <td>178.529999</td>\n",
       "      <td>180.330002</td>\n",
       "      <td>178.768845</td>\n",
       "      <td>7.421641e+09</td>\n",
       "    </tr>\n",
       "  </tbody>\n",
       "</table>\n",
       "</div>"
      ],
      "text/plain": [
       "              Open         High          Low        Close    Adj Close  \\\n",
       "count  5535.000000  5535.000000  5535.000000  5535.000000  5535.000000   \n",
       "mean     24.254609    24.512803    23.998591    24.266556    22.980999   \n",
       "std      34.572185    34.961910    34.199711    34.601415    34.199165   \n",
       "min       0.231964     0.235536     0.227143     0.234286     0.199130   \n",
       "25%       1.541786     1.565893     1.521786     1.538929     1.308001   \n",
       "50%      11.612857    11.658929    11.501786    11.612857     9.870262   \n",
       "75%      29.756250    29.981250    29.561250    29.815000    27.306857   \n",
       "max     181.119995   182.130005   178.529999   180.330002   178.768845   \n",
       "\n",
       "             Volume  \n",
       "count  5.535000e+03  \n",
       "mean   4.292185e+08  \n",
       "std    3.893148e+08  \n",
       "min    3.934000e+07  \n",
       "25%    1.588328e+08  \n",
       "50%    3.154368e+08  \n",
       "75%    5.706554e+08  \n",
       "max    7.421641e+09  "
      ]
     },
     "execution_count": 5,
     "metadata": {},
     "output_type": "execute_result"
    }
   ],
   "source": [
    "data.describe()"
   ]
  },
  {
   "cell_type": "code",
   "execution_count": 6,
   "id": "9ae3a5e0",
   "metadata": {},
   "outputs": [
    {
     "data": {
      "text/plain": [
       "Open         0\n",
       "High         0\n",
       "Low          0\n",
       "Close        0\n",
       "Adj Close    0\n",
       "Volume       0\n",
       "dtype: int64"
      ]
     },
     "execution_count": 6,
     "metadata": {},
     "output_type": "execute_result"
    }
   ],
   "source": [
    "data.isnull().sum()"
   ]
  },
  {
   "cell_type": "code",
   "execution_count": 7,
   "id": "84a613d5",
   "metadata": {},
   "outputs": [
    {
     "data": {
      "text/plain": [
       "Open         float64\n",
       "High         float64\n",
       "Low          float64\n",
       "Close        float64\n",
       "Adj Close    float64\n",
       "Volume         int64\n",
       "dtype: object"
      ]
     },
     "execution_count": 7,
     "metadata": {},
     "output_type": "execute_result"
    }
   ],
   "source": [
    "data.dtypes"
   ]
  },
  {
   "cell_type": "code",
   "execution_count": 8,
   "id": "aa1199ee",
   "metadata": {},
   "outputs": [],
   "source": [
    "# Define the LSTM model\n",
    "class LSTM(nn.Module):\n",
    "    def __init__(self, input_size, hidden_size, output_size):\n",
    "        super(LSTM, self).__init__()\n",
    "        self.hidden_size = hidden_size\n",
    "        self.lstm = nn.LSTM(input_size, hidden_size)\n",
    "        self.fc = nn.Linear(hidden_size, output_size)\n",
    "    \n",
    "    def forward(self, input):\n",
    "        lstm_out, _ = self.lstm(input.view(len(input), 1, -1))\n",
    "        output = self.fc(lstm_out.view(len(input), -1))\n",
    "        return output[-1]"
   ]
  },
  {
   "cell_type": "code",
   "execution_count": 9,
   "id": "feadb2cf",
   "metadata": {},
   "outputs": [],
   "source": [
    "# Define hyperparameters\n",
    "input_size = 1  # Number of features in the input (volume)\n",
    "hidden_size = 32  # Number of units in the LSTM hidden state\n",
    "output_size = 1  # Number of features in the output (adjusted value)\n",
    "num_epochs = 100\n",
    "learning_rate = 0.001"
   ]
  },
  {
   "cell_type": "code",
   "execution_count": 10,
   "id": "7f5c9297",
   "metadata": {},
   "outputs": [],
   "source": [
    "# Instantiate the LSTM model\n",
    "model = LSTM(input_size, hidden_size, output_size)\n",
    "\n",
    "# Define the loss function and optimizer\n",
    "criterion = nn.MSELoss()\n",
    "optimizer = optim.Adam(model.parameters(), lr=learning_rate)\n",
    "\n",
    "# Generate some example data (replace with your own dataset)\n",
    "num_samples = 1000"
   ]
  },
  {
   "cell_type": "code",
   "execution_count": 11,
   "id": "30c8714d",
   "metadata": {},
   "outputs": [],
   "source": [
    "volume = data.Volume.to_numpy().reshape(-1,1)\n",
    "adjusted_values = data.iloc[:, -1].to_numpy().reshape(-1, 1)\n",
    "\n",
    "# scaling of inputs and outputs\n",
    "scale_X = MinMaxScaler()\n",
    "scale_Y = MinMaxScaler()\n",
    "volume = scale_X.fit_transform(volume)\n",
    "adjusted_values = scale_Y.fit_transform(adjusted_values)\n",
    "\n",
    "# splitting data into training and testing\n",
    "volume_train, volume_test, adj_train, adj_test = train_test_split(volume, adjusted_values,\n",
    "                                                                 test_size= 0.8,\n",
    "                                                                 random_state=42)\n",
    "\n",
    "# Convert data to PyTorch tensors\n",
    "volume_train = torch.Tensor(volume_train)\n",
    "volume_test = torch.Tensor(volume_test)\n",
    "adj_train = torch.Tensor(adj_train)\n",
    "adj_test = torch.Tensor(adj_test)"
   ]
  },
  {
   "cell_type": "code",
   "execution_count": 12,
   "id": "411a6b44",
   "metadata": {},
   "outputs": [
    {
     "data": {
      "application/vnd.jupyter.widget-view+json": {
       "model_id": "21520a4a98d641bcb4bf524f47e48a4b",
       "version_major": 2,
       "version_minor": 0
      },
      "text/plain": [
       "  0%|          | 0/100 [00:00<?, ?it/s]"
      ]
     },
     "metadata": {},
     "output_type": "display_data"
    },
    {
     "name": "stdout",
     "output_type": "stream",
     "text": [
      "Epoch \u001b[1m10/100\u001b[0m, Train Loss: \u001b[1m0.0029\u001b[0m, Test Loss: \u001b[1m0.0029\u001b[0m\n",
      "Epoch \u001b[1m20/100\u001b[0m, Train Loss: \u001b[1m0.0031\u001b[0m, Test Loss: \u001b[1m0.0035\u001b[0m\n",
      "Epoch \u001b[1m30/100\u001b[0m, Train Loss: \u001b[1m0.0026\u001b[0m, Test Loss: \u001b[1m0.0029\u001b[0m\n",
      "Epoch \u001b[1m40/100\u001b[0m, Train Loss: \u001b[1m0.0026\u001b[0m, Test Loss: \u001b[1m0.0029\u001b[0m\n",
      "Epoch \u001b[1m50/100\u001b[0m, Train Loss: \u001b[1m0.0025\u001b[0m, Test Loss: \u001b[1m0.0028\u001b[0m\n",
      "Epoch \u001b[1m60/100\u001b[0m, Train Loss: \u001b[1m0.0025\u001b[0m, Test Loss: \u001b[1m0.0029\u001b[0m\n",
      "Epoch \u001b[1m70/100\u001b[0m, Train Loss: \u001b[1m0.0025\u001b[0m, Test Loss: \u001b[1m0.0028\u001b[0m\n",
      "Epoch \u001b[1m80/100\u001b[0m, Train Loss: \u001b[1m0.0025\u001b[0m, Test Loss: \u001b[1m0.0028\u001b[0m\n",
      "Epoch \u001b[1m90/100\u001b[0m, Train Loss: \u001b[1m0.0025\u001b[0m, Test Loss: \u001b[1m0.0028\u001b[0m\n",
      "Epoch \u001b[1m100/100\u001b[0m, Train Loss: \u001b[1m0.0025\u001b[0m, Test Loss: \u001b[1m0.0028\u001b[0m\n"
     ]
    }
   ],
   "source": [
    "# Training loop\n",
    "train_losses = []\n",
    "test_losses = []\n",
    "\n",
    "for epoch in bar(range(num_epochs)):\n",
    "    model.train()\n",
    "    optimizer.zero_grad()\n",
    "\n",
    "    # Forward pass\n",
    "    train_outputs = model(volume_train)\n",
    "    train_loss = criterion(train_outputs, adj_train)\n",
    "\n",
    "    # Backward pass and optimization\n",
    "    train_loss.backward()\n",
    "    optimizer.step()\n",
    "\n",
    "    # Evaluation on test data\n",
    "    model.eval()\n",
    "    test_outputs = model(volume_test)\n",
    "    test_loss = criterion(test_outputs, adj_test)\n",
    "\n",
    "    # Save the loss values\n",
    "    train_losses.append(train_loss.item())\n",
    "    test_losses.append(test_loss.item())\n",
    "    \n",
    "     # Print the loss for every 10 epochs\n",
    "    if (epoch + 1) % 10 == 0:\n",
    "        print(f'Epoch \\033[1m{epoch+1}/{num_epochs}\\033[0m, Train Loss: \\033[1m{train_loss.item():.4f}\\033[0m, Test Loss: \\033[1m{test_loss.item():.4f}\\033[0m')"
   ]
  },
  {
   "cell_type": "code",
   "execution_count": 18,
   "id": "33f98c66",
   "metadata": {},
   "outputs": [
    {
     "data": {
      "image/png": "[encoded data removed]",
      "text/plain": [
       "<Figure size 1800x600 with 1 Axes>"
      ]
     },
     "metadata": {},
     "output_type": "display_data"
    }
   ],
   "source": [
    "# Plot the loss curve\n",
    "plt.figure(figsize=(18, 6))\n",
    "plt.plot(train_losses, label='Train Loss', linewidth=2)\n",
    "plt.plot(test_losses, label='Test Loss', linewidth=2)\n",
    "plt.xlabel('Epoch', fontsize=15, fontname = 'times new roman')\n",
    "plt.ylabel('Loss', fontsize=15, fontname = 'times new roman')\n",
    "plt.yscale('log')\n",
    "plt.xticks(fontsize=10)\n",
    "plt.yticks(fontsize=10)\n",
    "plt.title('Training and Test Loss Curve', fontsize=20, fontname = 'times new roman')\n",
    "plt.legend(fontsize=12)\n",
    "plt.grid(True, linestyle='--', linewidth=0.5)\n",
    "plt.show()\n"
   ]
  }
 ],
 "metadata": {
  "kernelspec": {
   "display_name": "Python 3 (ipykernel)",
   "language": "python",
   "name": "python3"
  },
  "language_info": {
   "codemirror_mode": {
    "name": "ipython",
    "version": 3
   },
   "file_extension": ".py",
   "mimetype": "text/x-python",
   "name": "python",
   "nbconvert_exporter": "python",
   "pygments_lexer": "ipython3",
   "version": "3.10.9"
  }
 },
 "nbformat": 4,
 "nbformat_minor": 5
}
